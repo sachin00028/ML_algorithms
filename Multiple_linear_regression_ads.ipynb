{
  "nbformat": 4,
  "nbformat_minor": 0,
  "metadata": {
    "colab": {
      "provenance": [],
      "authorship_tag": "ABX9TyOZThnkQdnOhsw5zBBP6XgL",
      "include_colab_link": true
    },
    "kernelspec": {
      "name": "python3",
      "display_name": "Python 3"
    },
    "language_info": {
      "name": "python"
    }
  },
  "cells": [
    {
      "cell_type": "markdown",
      "metadata": {
        "id": "view-in-github",
        "colab_type": "text"
      },
      "source": [
        "<a href=\"https://colab.research.google.com/github/sachin00028/ML_algorithms/blob/main/Multiple_linear_regression_ads.ipynb\" target=\"_parent\"><img src=\"https://colab.research.google.com/assets/colab-badge.svg\" alt=\"Open In Colab\"/></a>"
      ]
    },
    {
      "cell_type": "code",
      "execution_count": null,
      "metadata": {
        "colab": {
          "base_uri": "https://localhost:8080/",
          "height": 423
        },
        "id": "JN5YvCzn5_wm",
        "outputId": "52ff4d5e-08b7-4635-f732-1b2ee07b9521"
      },
      "outputs": [
        {
          "output_type": "execute_result",
          "data": {
            "text/plain": [
              "        TV  Radio  Newspaper  Sales\n",
              "0    230.1   37.8       69.2   22.1\n",
              "1     44.5   39.3       45.1   10.4\n",
              "2     17.2   45.9       69.3   12.0\n",
              "3    151.5   41.3       58.5   16.5\n",
              "4    180.8   10.8       58.4   17.9\n",
              "..     ...    ...        ...    ...\n",
              "195   38.2    3.7       13.8    7.6\n",
              "196   94.2    4.9        8.1   14.0\n",
              "197  177.0    9.3        6.4   14.8\n",
              "198  283.6   42.0       66.2   25.5\n",
              "199  232.1    8.6        8.7   18.4\n",
              "\n",
              "[200 rows x 4 columns]"
            ],
            "text/html": [
              "\n",
              "  <div id=\"df-5e78b11c-afb4-425b-b25c-a73f50a00d7e\">\n",
              "    <div class=\"colab-df-container\">\n",
              "      <div>\n",
              "<style scoped>\n",
              "    .dataframe tbody tr th:only-of-type {\n",
              "        vertical-align: middle;\n",
              "    }\n",
              "\n",
              "    .dataframe tbody tr th {\n",
              "        vertical-align: top;\n",
              "    }\n",
              "\n",
              "    .dataframe thead th {\n",
              "        text-align: right;\n",
              "    }\n",
              "</style>\n",
              "<table border=\"1\" class=\"dataframe\">\n",
              "  <thead>\n",
              "    <tr style=\"text-align: right;\">\n",
              "      <th></th>\n",
              "      <th>TV</th>\n",
              "      <th>Radio</th>\n",
              "      <th>Newspaper</th>\n",
              "      <th>Sales</th>\n",
              "    </tr>\n",
              "  </thead>\n",
              "  <tbody>\n",
              "    <tr>\n",
              "      <th>0</th>\n",
              "      <td>230.1</td>\n",
              "      <td>37.8</td>\n",
              "      <td>69.2</td>\n",
              "      <td>22.1</td>\n",
              "    </tr>\n",
              "    <tr>\n",
              "      <th>1</th>\n",
              "      <td>44.5</td>\n",
              "      <td>39.3</td>\n",
              "      <td>45.1</td>\n",
              "      <td>10.4</td>\n",
              "    </tr>\n",
              "    <tr>\n",
              "      <th>2</th>\n",
              "      <td>17.2</td>\n",
              "      <td>45.9</td>\n",
              "      <td>69.3</td>\n",
              "      <td>12.0</td>\n",
              "    </tr>\n",
              "    <tr>\n",
              "      <th>3</th>\n",
              "      <td>151.5</td>\n",
              "      <td>41.3</td>\n",
              "      <td>58.5</td>\n",
              "      <td>16.5</td>\n",
              "    </tr>\n",
              "    <tr>\n",
              "      <th>4</th>\n",
              "      <td>180.8</td>\n",
              "      <td>10.8</td>\n",
              "      <td>58.4</td>\n",
              "      <td>17.9</td>\n",
              "    </tr>\n",
              "    <tr>\n",
              "      <th>...</th>\n",
              "      <td>...</td>\n",
              "      <td>...</td>\n",
              "      <td>...</td>\n",
              "      <td>...</td>\n",
              "    </tr>\n",
              "    <tr>\n",
              "      <th>195</th>\n",
              "      <td>38.2</td>\n",
              "      <td>3.7</td>\n",
              "      <td>13.8</td>\n",
              "      <td>7.6</td>\n",
              "    </tr>\n",
              "    <tr>\n",
              "      <th>196</th>\n",
              "      <td>94.2</td>\n",
              "      <td>4.9</td>\n",
              "      <td>8.1</td>\n",
              "      <td>14.0</td>\n",
              "    </tr>\n",
              "    <tr>\n",
              "      <th>197</th>\n",
              "      <td>177.0</td>\n",
              "      <td>9.3</td>\n",
              "      <td>6.4</td>\n",
              "      <td>14.8</td>\n",
              "    </tr>\n",
              "    <tr>\n",
              "      <th>198</th>\n",
              "      <td>283.6</td>\n",
              "      <td>42.0</td>\n",
              "      <td>66.2</td>\n",
              "      <td>25.5</td>\n",
              "    </tr>\n",
              "    <tr>\n",
              "      <th>199</th>\n",
              "      <td>232.1</td>\n",
              "      <td>8.6</td>\n",
              "      <td>8.7</td>\n",
              "      <td>18.4</td>\n",
              "    </tr>\n",
              "  </tbody>\n",
              "</table>\n",
              "<p>200 rows × 4 columns</p>\n",
              "</div>\n",
              "      <button class=\"colab-df-convert\" onclick=\"convertToInteractive('df-5e78b11c-afb4-425b-b25c-a73f50a00d7e')\"\n",
              "              title=\"Convert this dataframe to an interactive table.\"\n",
              "              style=\"display:none;\">\n",
              "        \n",
              "  <svg xmlns=\"http://www.w3.org/2000/svg\" height=\"24px\"viewBox=\"0 0 24 24\"\n",
              "       width=\"24px\">\n",
              "    <path d=\"M0 0h24v24H0V0z\" fill=\"none\"/>\n",
              "    <path d=\"M18.56 5.44l.94 2.06.94-2.06 2.06-.94-2.06-.94-.94-2.06-.94 2.06-2.06.94zm-11 1L8.5 8.5l.94-2.06 2.06-.94-2.06-.94L8.5 2.5l-.94 2.06-2.06.94zm10 10l.94 2.06.94-2.06 2.06-.94-2.06-.94-.94-2.06-.94 2.06-2.06.94z\"/><path d=\"M17.41 7.96l-1.37-1.37c-.4-.4-.92-.59-1.43-.59-.52 0-1.04.2-1.43.59L10.3 9.45l-7.72 7.72c-.78.78-.78 2.05 0 2.83L4 21.41c.39.39.9.59 1.41.59.51 0 1.02-.2 1.41-.59l7.78-7.78 2.81-2.81c.8-.78.8-2.07 0-2.86zM5.41 20L4 18.59l7.72-7.72 1.47 1.35L5.41 20z\"/>\n",
              "  </svg>\n",
              "      </button>\n",
              "      \n",
              "  <style>\n",
              "    .colab-df-container {\n",
              "      display:flex;\n",
              "      flex-wrap:wrap;\n",
              "      gap: 12px;\n",
              "    }\n",
              "\n",
              "    .colab-df-convert {\n",
              "      background-color: #E8F0FE;\n",
              "      border: none;\n",
              "      border-radius: 50%;\n",
              "      cursor: pointer;\n",
              "      display: none;\n",
              "      fill: #1967D2;\n",
              "      height: 32px;\n",
              "      padding: 0 0 0 0;\n",
              "      width: 32px;\n",
              "    }\n",
              "\n",
              "    .colab-df-convert:hover {\n",
              "      background-color: #E2EBFA;\n",
              "      box-shadow: 0px 1px 2px rgba(60, 64, 67, 0.3), 0px 1px 3px 1px rgba(60, 64, 67, 0.15);\n",
              "      fill: #174EA6;\n",
              "    }\n",
              "\n",
              "    [theme=dark] .colab-df-convert {\n",
              "      background-color: #3B4455;\n",
              "      fill: #D2E3FC;\n",
              "    }\n",
              "\n",
              "    [theme=dark] .colab-df-convert:hover {\n",
              "      background-color: #434B5C;\n",
              "      box-shadow: 0px 1px 3px 1px rgba(0, 0, 0, 0.15);\n",
              "      filter: drop-shadow(0px 1px 2px rgba(0, 0, 0, 0.3));\n",
              "      fill: #FFFFFF;\n",
              "    }\n",
              "  </style>\n",
              "\n",
              "      <script>\n",
              "        const buttonEl =\n",
              "          document.querySelector('#df-5e78b11c-afb4-425b-b25c-a73f50a00d7e button.colab-df-convert');\n",
              "        buttonEl.style.display =\n",
              "          google.colab.kernel.accessAllowed ? 'block' : 'none';\n",
              "\n",
              "        async function convertToInteractive(key) {\n",
              "          const element = document.querySelector('#df-5e78b11c-afb4-425b-b25c-a73f50a00d7e');\n",
              "          const dataTable =\n",
              "            await google.colab.kernel.invokeFunction('convertToInteractive',\n",
              "                                                     [key], {});\n",
              "          if (!dataTable) return;\n",
              "\n",
              "          const docLinkHtml = 'Like what you see? Visit the ' +\n",
              "            '<a target=\"_blank\" href=https://colab.research.google.com/notebooks/data_table.ipynb>data table notebook</a>'\n",
              "            + ' to learn more about interactive tables.';\n",
              "          element.innerHTML = '';\n",
              "          dataTable['output_type'] = 'display_data';\n",
              "          await google.colab.output.renderOutput(dataTable, element);\n",
              "          const docLink = document.createElement('div');\n",
              "          docLink.innerHTML = docLinkHtml;\n",
              "          element.appendChild(docLink);\n",
              "        }\n",
              "      </script>\n",
              "    </div>\n",
              "  </div>\n",
              "  "
            ]
          },
          "metadata": {},
          "execution_count": 1
        }
      ],
      "source": [
        "import numpy as np\n",
        "import pandas as pd\n",
        "df=pd.read_csv('/content/Advertising.csv')\n",
        "df"
      ]
    },
    {
      "cell_type": "code",
      "source": [
        "df.isna().sum()"
      ],
      "metadata": {
        "colab": {
          "base_uri": "https://localhost:8080/"
        },
        "id": "Uh7uOv6m6Qqg",
        "outputId": "1142d75a-4d0c-4f94-e339-8221a6ec8e01"
      },
      "execution_count": null,
      "outputs": [
        {
          "output_type": "execute_result",
          "data": {
            "text/plain": [
              "TV           0\n",
              "Radio        0\n",
              "Newspaper    0\n",
              "Sales        0\n",
              "dtype: int64"
            ]
          },
          "metadata": {},
          "execution_count": 2
        }
      ]
    },
    {
      "cell_type": "code",
      "source": [
        "df.head()"
      ],
      "metadata": {
        "colab": {
          "base_uri": "https://localhost:8080/",
          "height": 206
        },
        "id": "JPvBjSGPzQ-B",
        "outputId": "25adea1d-e933-40c6-cba6-771bf95eb363"
      },
      "execution_count": null,
      "outputs": [
        {
          "output_type": "execute_result",
          "data": {
            "text/plain": [
              "      TV  Radio  Newspaper  Sales\n",
              "0  230.1   37.8       69.2   22.1\n",
              "1   44.5   39.3       45.1   10.4\n",
              "2   17.2   45.9       69.3   12.0\n",
              "3  151.5   41.3       58.5   16.5\n",
              "4  180.8   10.8       58.4   17.9"
            ],
            "text/html": [
              "\n",
              "  <div id=\"df-d5316557-ca6e-46d7-9840-f757f784b737\">\n",
              "    <div class=\"colab-df-container\">\n",
              "      <div>\n",
              "<style scoped>\n",
              "    .dataframe tbody tr th:only-of-type {\n",
              "        vertical-align: middle;\n",
              "    }\n",
              "\n",
              "    .dataframe tbody tr th {\n",
              "        vertical-align: top;\n",
              "    }\n",
              "\n",
              "    .dataframe thead th {\n",
              "        text-align: right;\n",
              "    }\n",
              "</style>\n",
              "<table border=\"1\" class=\"dataframe\">\n",
              "  <thead>\n",
              "    <tr style=\"text-align: right;\">\n",
              "      <th></th>\n",
              "      <th>TV</th>\n",
              "      <th>Radio</th>\n",
              "      <th>Newspaper</th>\n",
              "      <th>Sales</th>\n",
              "    </tr>\n",
              "  </thead>\n",
              "  <tbody>\n",
              "    <tr>\n",
              "      <th>0</th>\n",
              "      <td>230.1</td>\n",
              "      <td>37.8</td>\n",
              "      <td>69.2</td>\n",
              "      <td>22.1</td>\n",
              "    </tr>\n",
              "    <tr>\n",
              "      <th>1</th>\n",
              "      <td>44.5</td>\n",
              "      <td>39.3</td>\n",
              "      <td>45.1</td>\n",
              "      <td>10.4</td>\n",
              "    </tr>\n",
              "    <tr>\n",
              "      <th>2</th>\n",
              "      <td>17.2</td>\n",
              "      <td>45.9</td>\n",
              "      <td>69.3</td>\n",
              "      <td>12.0</td>\n",
              "    </tr>\n",
              "    <tr>\n",
              "      <th>3</th>\n",
              "      <td>151.5</td>\n",
              "      <td>41.3</td>\n",
              "      <td>58.5</td>\n",
              "      <td>16.5</td>\n",
              "    </tr>\n",
              "    <tr>\n",
              "      <th>4</th>\n",
              "      <td>180.8</td>\n",
              "      <td>10.8</td>\n",
              "      <td>58.4</td>\n",
              "      <td>17.9</td>\n",
              "    </tr>\n",
              "  </tbody>\n",
              "</table>\n",
              "</div>\n",
              "      <button class=\"colab-df-convert\" onclick=\"convertToInteractive('df-d5316557-ca6e-46d7-9840-f757f784b737')\"\n",
              "              title=\"Convert this dataframe to an interactive table.\"\n",
              "              style=\"display:none;\">\n",
              "        \n",
              "  <svg xmlns=\"http://www.w3.org/2000/svg\" height=\"24px\"viewBox=\"0 0 24 24\"\n",
              "       width=\"24px\">\n",
              "    <path d=\"M0 0h24v24H0V0z\" fill=\"none\"/>\n",
              "    <path d=\"M18.56 5.44l.94 2.06.94-2.06 2.06-.94-2.06-.94-.94-2.06-.94 2.06-2.06.94zm-11 1L8.5 8.5l.94-2.06 2.06-.94-2.06-.94L8.5 2.5l-.94 2.06-2.06.94zm10 10l.94 2.06.94-2.06 2.06-.94-2.06-.94-.94-2.06-.94 2.06-2.06.94z\"/><path d=\"M17.41 7.96l-1.37-1.37c-.4-.4-.92-.59-1.43-.59-.52 0-1.04.2-1.43.59L10.3 9.45l-7.72 7.72c-.78.78-.78 2.05 0 2.83L4 21.41c.39.39.9.59 1.41.59.51 0 1.02-.2 1.41-.59l7.78-7.78 2.81-2.81c.8-.78.8-2.07 0-2.86zM5.41 20L4 18.59l7.72-7.72 1.47 1.35L5.41 20z\"/>\n",
              "  </svg>\n",
              "      </button>\n",
              "      \n",
              "  <style>\n",
              "    .colab-df-container {\n",
              "      display:flex;\n",
              "      flex-wrap:wrap;\n",
              "      gap: 12px;\n",
              "    }\n",
              "\n",
              "    .colab-df-convert {\n",
              "      background-color: #E8F0FE;\n",
              "      border: none;\n",
              "      border-radius: 50%;\n",
              "      cursor: pointer;\n",
              "      display: none;\n",
              "      fill: #1967D2;\n",
              "      height: 32px;\n",
              "      padding: 0 0 0 0;\n",
              "      width: 32px;\n",
              "    }\n",
              "\n",
              "    .colab-df-convert:hover {\n",
              "      background-color: #E2EBFA;\n",
              "      box-shadow: 0px 1px 2px rgba(60, 64, 67, 0.3), 0px 1px 3px 1px rgba(60, 64, 67, 0.15);\n",
              "      fill: #174EA6;\n",
              "    }\n",
              "\n",
              "    [theme=dark] .colab-df-convert {\n",
              "      background-color: #3B4455;\n",
              "      fill: #D2E3FC;\n",
              "    }\n",
              "\n",
              "    [theme=dark] .colab-df-convert:hover {\n",
              "      background-color: #434B5C;\n",
              "      box-shadow: 0px 1px 3px 1px rgba(0, 0, 0, 0.15);\n",
              "      filter: drop-shadow(0px 1px 2px rgba(0, 0, 0, 0.3));\n",
              "      fill: #FFFFFF;\n",
              "    }\n",
              "  </style>\n",
              "\n",
              "      <script>\n",
              "        const buttonEl =\n",
              "          document.querySelector('#df-d5316557-ca6e-46d7-9840-f757f784b737 button.colab-df-convert');\n",
              "        buttonEl.style.display =\n",
              "          google.colab.kernel.accessAllowed ? 'block' : 'none';\n",
              "\n",
              "        async function convertToInteractive(key) {\n",
              "          const element = document.querySelector('#df-d5316557-ca6e-46d7-9840-f757f784b737');\n",
              "          const dataTable =\n",
              "            await google.colab.kernel.invokeFunction('convertToInteractive',\n",
              "                                                     [key], {});\n",
              "          if (!dataTable) return;\n",
              "\n",
              "          const docLinkHtml = 'Like what you see? Visit the ' +\n",
              "            '<a target=\"_blank\" href=https://colab.research.google.com/notebooks/data_table.ipynb>data table notebook</a>'\n",
              "            + ' to learn more about interactive tables.';\n",
              "          element.innerHTML = '';\n",
              "          dataTable['output_type'] = 'display_data';\n",
              "          await google.colab.output.renderOutput(dataTable, element);\n",
              "          const docLink = document.createElement('div');\n",
              "          docLink.innerHTML = docLinkHtml;\n",
              "          element.appendChild(docLink);\n",
              "        }\n",
              "      </script>\n",
              "    </div>\n",
              "  </div>\n",
              "  "
            ]
          },
          "metadata": {},
          "execution_count": 4
        }
      ]
    },
    {
      "cell_type": "code",
      "source": [
        "df.columns"
      ],
      "metadata": {
        "colab": {
          "base_uri": "https://localhost:8080/"
        },
        "id": "xZ5ABZrK6QnT",
        "outputId": "6f97565e-6977-4408-ad5c-a5db777c2136"
      },
      "execution_count": null,
      "outputs": [
        {
          "output_type": "execute_result",
          "data": {
            "text/plain": [
              "Index(['TV', 'Radio', 'Newspaper', 'Sales'], dtype='object')"
            ]
          },
          "metadata": {},
          "execution_count": 5
        }
      ]
    },
    {
      "cell_type": "code",
      "source": [
        "x=df.iloc[:,:-1].values\n",
        "y=df.iloc[:,-1].values\n",
        "y"
      ],
      "metadata": {
        "colab": {
          "base_uri": "https://localhost:8080/"
        },
        "id": "kWvb07AS6QkI",
        "outputId": "75dd84a9-6038-4f4d-9d50-982e9fb7c2a7"
      },
      "execution_count": null,
      "outputs": [
        {
          "output_type": "execute_result",
          "data": {
            "text/plain": [
              "array([22.1, 10.4, 12. , 16.5, 17.9,  7.2, 11.8, 13.2,  4.8, 15.6, 12.6,\n",
              "       17.4,  9.2, 13.7, 19. , 22.4, 12.5, 24.4, 11.3, 14.6, 18. , 17.5,\n",
              "        5.6, 20.5,  9.7, 17. , 15. , 20.9, 18.9, 10.5, 21.4, 11.9, 13.2,\n",
              "       17.4, 11.9, 17.8, 25.4, 14.7, 10.1, 21.5, 16.6, 17.1, 20.7, 17.9,\n",
              "        8.5, 16.1, 10.6, 23.2, 19.8,  9.7, 16.4, 10.7, 22.6, 21.2, 20.2,\n",
              "       23.7,  5.5, 13.2, 23.8, 18.4,  8.1, 24.2, 20.7, 14. , 16. , 11.3,\n",
              "       11. , 13.4, 18.9, 22.3, 18.3, 12.4,  8.8, 11. , 17. ,  8.7,  6.9,\n",
              "       14.2,  5.3, 11. , 11.8, 17.3, 11.3, 13.6, 21.7, 20.2, 12. , 16. ,\n",
              "       12.9, 16.7, 14. ,  7.3, 19.4, 22.2, 11.5, 16.9, 16.7, 20.5, 25.4,\n",
              "       17.2, 16.7, 23.8, 19.8, 19.7, 20.7, 15. ,  7.2, 12. ,  5.3, 19.8,\n",
              "       18.4, 21.8, 17.1, 20.9, 14.6, 12.6, 12.2,  9.4, 15.9,  6.6, 15.5,\n",
              "        7. , 16.6, 15.2, 19.7, 10.6,  6.6, 11.9, 24.7,  9.7,  1.6, 17.7,\n",
              "        5.7, 19.6, 10.8, 11.6,  9.5, 20.8,  9.6, 20.7, 10.9, 19.2, 20.1,\n",
              "       10.4, 12.3, 10.3, 18.2, 25.4, 10.9, 10.1, 16.1, 11.6, 16.6, 16. ,\n",
              "       20.6,  3.2, 15.3, 10.1,  7.3, 12.9, 16.4, 13.3, 19.9, 18. , 11.9,\n",
              "       16.9,  8. , 17.2, 17.1, 20. ,  8.4, 17.5,  7.6, 16.7, 16.5, 27. ,\n",
              "       20.2, 16.7, 16.8, 17.6, 15.5, 17.2,  8.7, 26.2, 17.6, 22.6, 10.3,\n",
              "       17.3, 20.9,  6.7, 10.8, 11.9,  5.9, 19.6, 17.3,  7.6, 14. , 14.8,\n",
              "       25.5, 18.4])"
            ]
          },
          "metadata": {},
          "execution_count": 6
        }
      ]
    },
    {
      "cell_type": "code",
      "source": [
        "#TV vs sales\n",
        "import seaborn as sns\n",
        "sns.regplot(x=df['TV'],y=y,color='r')"
      ],
      "metadata": {
        "id": "UIi4EpY66Qg8",
        "colab": {
          "base_uri": "https://localhost:8080/",
          "height": 296
        },
        "outputId": "4ca497e7-f094-4929-9359-c7214689aac0"
      },
      "execution_count": null,
      "outputs": [
        {
          "output_type": "execute_result",
          "data": {
            "text/plain": [
              "<matplotlib.axes._subplots.AxesSubplot at 0x7fddcd8e99a0>"
            ]
          },
          "metadata": {},
          "execution_count": 7
        },
        {
          "output_type": "display_data",
          "data": {
            "text/plain": [
              "<Figure size 432x288 with 1 Axes>"
            ],
            "image/png": "[encoded data removed]"
          },
          "metadata": {
            "needs_background": "light"
          }
        }
      ]
    },
    {
      "cell_type": "code",
      "source": [
        "#Radio vs sales\n",
        "sns.regplot(x=df['Radio'],y=y,color='g')"
      ],
      "metadata": {
        "colab": {
          "base_uri": "https://localhost:8080/",
          "height": 296
        },
        "id": "0iZx4fVk1u28",
        "outputId": "bd71b36b-27d3-45a3-c604-7f5447ff44e9"
      },
      "execution_count": null,
      "outputs": [
        {
          "output_type": "execute_result",
          "data": {
            "text/plain": [
              "<matplotlib.axes._subplots.AxesSubplot at 0x7f2c3f4d2f10>"
            ]
          },
          "metadata": {},
          "execution_count": 8
        },
        {
          "output_type": "display_data",
          "data": {
            "text/plain": [
              "<Figure size 432x288 with 1 Axes>"
            ],
            "image/png": "[encoded data removed]"
          },
          "metadata": {
            "needs_background": "light"
          }
        }
      ]
    },
    {
      "cell_type": "code",
      "source": [
        "#Newspaper vs sales\n",
        "sns.regplot(x=df['Newspaper'],y=y,color='b')"
      ],
      "metadata": {
        "colab": {
          "base_uri": "https://localhost:8080/",
          "height": 296
        },
        "id": "LMJW5M9n2VNN",
        "outputId": "ab8d5555-2115-4843-f3be-4e46eb099f6b"
      },
      "execution_count": null,
      "outputs": [
        {
          "output_type": "execute_result",
          "data": {
            "text/plain": [
              "<matplotlib.axes._subplots.AxesSubplot at 0x7f2c3f445b50>"
            ]
          },
          "metadata": {},
          "execution_count": 10
        },
        {
          "output_type": "display_data",
          "data": {
            "text/plain": [
              "<Figure size 432x288 with 1 Axes>"
            ],
            "image/png": "[encoded data removed]"
          },
          "metadata": {
            "needs_background": "light"
          }
        }
      ]
    },
    {
      "cell_type": "code",
      "source": [
        "from sklearn.model_selection import train_test_split\n",
        "x_train,x_test,y_train,y_test=train_test_split(x,y,test_size=0.30,random_state=42)\n",
        "x_train"
      ],
      "metadata": {
        "colab": {
          "base_uri": "https://localhost:8080/"
        },
        "id": "1dEKSW-o2yPc",
        "outputId": "b3a5c7c7-ef86-4503-e90b-fc3bcecfeec6"
      },
      "execution_count": null,
      "outputs": [
        {
          "output_type": "execute_result",
          "data": {
            "text/plain": [
              "array([[284.3,  10.6,   6.4],\n",
              "       [184.9,  21. ,  22. ],\n",
              "       [112.9,  17.4,  38.6],\n",
              "       [ 23.8,  35.1,  65.9],\n",
              "       [290.7,   4.1,   8.5],\n",
              "       [ 19.4,  16. ,  22.3],\n",
              "       [293.6,  27.7,   1.8],\n",
              "       [ 18.7,  12.1,  23.4],\n",
              "       [134.3,   4.9,   9.3],\n",
              "       [ 25.6,  39. ,   9.3],\n",
              "       [100.4,   9.6,   3.6],\n",
              "       [ 80.2,   0. ,   9.2],\n",
              "       [188.4,  18.1,  25.6],\n",
              "       [177. ,  33.4,  38.7],\n",
              "       [125.7,  36.9,  79.2],\n",
              "       [209.6,  20.6,  10.7],\n",
              "       [142.9,  29.3,  12.6],\n",
              "       [184.9,  43.9,   1.7],\n",
              "       [222.4,   4.3,  49.8],\n",
              "       [241.7,  38. ,  23.2],\n",
              "       [ 17.2,  45.9,  69.3],\n",
              "       [120.5,  28.5,  14.2],\n",
              "       [ 89.7,   9.9,  35.7],\n",
              "       [191.1,  28.7,  18.2],\n",
              "       [ 75.5,  10.8,   6. ],\n",
              "       [193.2,  18.4,  65.7],\n",
              "       [ 85.7,  35.8,  49.3],\n",
              "       [266.9,  43.8,   5. ],\n",
              "       [ 39.5,  41.1,   5.8],\n",
              "       [261.3,  42.7,  54.7],\n",
              "       [ 13.2,  15.9,  49.6],\n",
              "       [193.7,  35.4,  75.6],\n",
              "       [296.4,  36.3, 100.9],\n",
              "       [265.6,  20. ,   0.3],\n",
              "       [214.7,  24. ,   4. ],\n",
              "       [149.7,  35.6,   6. ],\n",
              "       [131.7,  18.4,  34.6],\n",
              "       [ 57.5,  32.8,  23.5],\n",
              "       [240.1,  16.7,  22.9],\n",
              "       [141.3,  26.8,  46.2],\n",
              "       [180.8,  10.8,  58.4],\n",
              "       [ 97.2,   1.5,  30. ],\n",
              "       [220.5,  33.2,  37.9],\n",
              "       [140.3,   1.9,   9. ],\n",
              "       [255.4,  26.9,   5.5],\n",
              "       [ 96.2,  14.8,  38.9],\n",
              "       [ 66.1,   5.8,  24.2],\n",
              "       [239.3,  15.5,  27.3],\n",
              "       [175.7,  15.4,   2.4],\n",
              "       [240.1,   7.3,   8.7],\n",
              "       [ 17.9,  37.6,  21.6],\n",
              "       [230.1,  37.8,  69.2],\n",
              "       [283.6,  42. ,  66.2],\n",
              "       [171.3,  39.7,  37.7],\n",
              "       [199.1,  30.6,  38.7],\n",
              "       [123.1,  34.6,  12.4],\n",
              "       [131.1,  42.8,  28.9],\n",
              "       [ 25.1,  25.7,  43.3],\n",
              "       [163.5,  36.8,   7.4],\n",
              "       [248.8,  27.1,  22.9],\n",
              "       [202.5,  22.3,  31.6],\n",
              "       [ 13.1,   0.4,  25.6],\n",
              "       [  4.1,  11.6,   5.7],\n",
              "       [ 93.9,  43.5,  50.5],\n",
              "       [262.9,   3.5,  19.5],\n",
              "       [228.3,  16.9,  26.2],\n",
              "       [253.8,  21.3,  30. ],\n",
              "       [243.2,  49. ,  44.3],\n",
              "       [239.8,   4.1,  36.9],\n",
              "       [228. ,  37.7,  32. ],\n",
              "       [215.4,  23.6,  57.6],\n",
              "       [239.9,  41.5,  18.5],\n",
              "       [107.4,  14. ,  10.9],\n",
              "       [187.8,  21.1,   9.5],\n",
              "       [206.9,   8.4,  26.4],\n",
              "       [ 43. ,  25.9,  20.5],\n",
              "       [151.5,  41.3,  58.5],\n",
              "       [137.9,  46.4,  59. ],\n",
              "       [182.6,  46.2,  58.7],\n",
              "       [219.8,  33.5,  45.1],\n",
              "       [156.6,   2.6,   8.3],\n",
              "       [276.7,   2.3,  23.7],\n",
              "       [205. ,  45.1,  19.6],\n",
              "       [ 66.9,  11.7,  36.8],\n",
              "       [ 76.4,  26.7,  22.3],\n",
              "       [ 95.7,   1.4,   7.4],\n",
              "       [120.2,  19.6,  11.6],\n",
              "       [225.8,   8.2,  56.5],\n",
              "       [ 28.6,   1.5,  33. ],\n",
              "       [ 68.4,  44.5,  35.6],\n",
              "       [248.4,  30.2,  20.3],\n",
              "       [218.5,   5.4,  27.4],\n",
              "       [109.8,  47.8,  51.4],\n",
              "       [  8.6,   2.1,   1. ],\n",
              "       [ 97.5,   7.6,   7.2],\n",
              "       [210.7,  29.5,   9.3],\n",
              "       [164.5,  20.9,  47.4],\n",
              "       [265.2,   2.9,  43. ],\n",
              "       [281.4,  39.6,  55.8],\n",
              "       [ 26.8,  33. ,  19.3],\n",
              "       [276.9,  48.9,  41.8],\n",
              "       [ 36.9,  38.6,  65.6],\n",
              "       [206.8,   5.2,  19.4],\n",
              "       [287.6,  43. ,  71.8],\n",
              "       [102.7,  29.6,   8.4],\n",
              "       [262.7,  28.8,  15.9],\n",
              "       [ 90.4,   0.3,  23.2],\n",
              "       [199.8,   3.1,  34.6],\n",
              "       [ 94.2,   4.9,   8.1],\n",
              "       [210.8,  49.6,  37.7],\n",
              "       [227.2,  15.8,  49.9],\n",
              "       [ 88.3,  25.5,  73.4],\n",
              "       [237.4,   5.1,  23.5],\n",
              "       [136.2,  19.2,  16.6],\n",
              "       [172.5,  18.1,  30.7],\n",
              "       [ 17.2,   4.1,  31.6],\n",
              "       [ 59.6,  12. ,  43.1],\n",
              "       [ 74.7,  49.4,  45.7],\n",
              "       [149.8,   1.3,  24.3],\n",
              "       [166.8,  42. ,   3.6],\n",
              "       [ 44.5,  39.3,  45.1],\n",
              "       [216.4,  41.7,  39.6],\n",
              "       [ 44.7,  25.8,  20.6],\n",
              "       [  0.7,  39.6,   8.7],\n",
              "       [121. ,   8.4,  48.7],\n",
              "       [187.9,  17.2,  17.9],\n",
              "       [135.2,  41.7,  45.9],\n",
              "       [139.2,  14.3,  25.6],\n",
              "       [110.7,  40.6,  63.2],\n",
              "       [213.4,  24.6,  13.1],\n",
              "       [ 18.8,  21.7,  50.4],\n",
              "       [232.1,   8.6,   8.7],\n",
              "       [218.4,  27.7,  53.4],\n",
              "       [286. ,  13.9,   3.7],\n",
              "       [109.8,  14.3,  31.7],\n",
              "       [ 25. ,  11. ,  29.7],\n",
              "       [204.1,  32.9,  46. ],\n",
              "       [217.7,  33.5,  59. ],\n",
              "       [165.6,  10. ,  17.6],\n",
              "       [280.2,  10.1,  21.4]])"
            ]
          },
          "metadata": {},
          "execution_count": 12
        }
      ]
    },
    {
      "cell_type": "code",
      "source": [
        "from sklearn.linear_model import LinearRegression\n",
        "model=LinearRegression()\n",
        "model.fit(x_train,y_train)\n",
        "y_pred=model.predict(x_test)\n",
        "y_pred\n",
        "print(model.predict([[110.4,86.5,87.6]]))"
      ],
      "metadata": {
        "colab": {
          "base_uri": "https://localhost:8080/"
        },
        "id": "mHNy0HBw3ZxA",
        "outputId": "f3dda080-5e71-4316-858c-0bb99149e25f"
      },
      "execution_count": null,
      "outputs": [
        {
          "output_type": "stream",
          "name": "stdout",
          "text": [
            "[20.23890773]\n"
          ]
        }
      ]
    },
    {
      "cell_type": "code",
      "source": [
        "print('Constant value',model.intercept_)"
      ],
      "metadata": {
        "colab": {
          "base_uri": "https://localhost:8080/"
        },
        "id": "144ONZuE4PLz",
        "outputId": "6253c2a4-308c-4d1e-c4b3-0d8339485145"
      },
      "execution_count": null,
      "outputs": [
        {
          "output_type": "stream",
          "name": "stdout",
          "text": [
            "Constant value 4.743766701589685\n"
          ]
        }
      ]
    },
    {
      "cell_type": "code",
      "source": [
        "print('Coefficient')\n",
        "print(model.coef_)"
      ],
      "metadata": {
        "colab": {
          "base_uri": "https://localhost:8080/"
        },
        "id": "XC7CaW5-44dx",
        "outputId": "29321895-0ac9-49a0-f0c6-aa6d8f1c65f4"
      },
      "execution_count": null,
      "outputs": [
        {
          "output_type": "stream",
          "name": "stdout",
          "text": [
            "Coefficient\n",
            "[0.05358869 0.10270677 0.00793167]\n"
          ]
        }
      ]
    },
    {
      "cell_type": "code",
      "source": [
        "df1=pd.DataFrame({'Actual_value':y_test,'predicted_value':y_pred})\n",
        "df1"
      ],
      "metadata": {
        "colab": {
          "base_uri": "https://localhost:8080/",
          "height": 1000
        },
        "id": "qWL7EyCa7WJr",
        "outputId": "b9490daf-a700-4c87-b3ce-f12074fce8e7"
      },
      "execution_count": null,
      "outputs": [
        {
          "output_type": "execute_result",
          "data": {
            "text/plain": [
              "    Actual_value  predicted_value\n",
              "0           16.9        17.159919\n",
              "1           22.4        20.533695\n",
              "2           21.4        23.689144\n",
              "3            7.3         9.519146\n",
              "4           24.7        21.607368\n",
              "5           12.6        12.781013\n",
              "6           22.3        21.086363\n",
              "7            8.4         8.760542\n",
              "8           16.5        17.115000\n",
              "9           16.1        16.687896\n",
              "10          11.0         8.975847\n",
              "11           8.7         8.576450\n",
              "12          16.9        18.332123\n",
              "13           5.3         8.178636\n",
              "14          10.3        12.646056\n",
              "15          16.7        14.944869\n",
              "16           5.5         8.349395\n",
              "17          16.6        17.838589\n",
              "18          11.3        11.121722\n",
              "19          18.9        20.377406\n",
              "20          19.7        20.948330\n",
              "21          12.5        13.040358\n",
              "22          10.9        11.013607\n",
              "23          22.2        22.511426\n",
              "24          11.3         9.403698\n",
              "25           8.1         7.985913\n",
              "26          21.7        20.869434\n",
              "27          13.4        13.778823\n",
              "28          10.6        10.834071\n",
              "29           5.7         8.004192\n",
              "30          15.6        15.885976\n",
              "31          11.3        10.702742\n",
              "32          23.7        20.952172\n",
              "33           8.7        10.846792\n",
              "34          16.1        21.507208\n",
              "35          20.7        21.073473\n",
              "36          11.6        12.226738\n",
              "37          20.8        22.852738\n",
              "38          11.9        12.576982\n",
              "39           6.9         6.545972\n",
              "40          11.0        11.934119\n",
              "41          14.8        15.234901\n",
              "42          10.1        10.074112\n",
              "43           9.7         9.521597\n",
              "44          16.6        17.117864\n",
              "45           7.6         7.280327\n",
              "46          10.5        10.494049\n",
              "47          14.6        15.243568\n",
              "48          10.4        11.207422\n",
              "49          12.0        11.783927\n",
              "50          14.6        14.014722\n",
              "51          16.7        14.598846\n",
              "52           7.2        10.827224\n",
              "53           6.6         9.558394\n",
              "54           9.4         9.037497\n",
              "55          11.0        12.511833\n",
              "56          10.9        10.525510\n",
              "57          25.4        25.019008\n",
              "58           7.6         7.993349\n",
              "59          16.7        15.739163"
            ],
            "text/html": [
              "\n",
              "  <div id=\"df-3a38ecb6-547b-403b-ba3b-e9de89e81e5e\">\n",
              "    <div class=\"colab-df-container\">\n",
              "      <div>\n",
              "<style scoped>\n",
              "    .dataframe tbody tr th:only-of-type {\n",
              "        vertical-align: middle;\n",
              "    }\n",
              "\n",
              "    .dataframe tbody tr th {\n",
              "        vertical-align: top;\n",
              "    }\n",
              "\n",
              "    .dataframe thead th {\n",
              "        text-align: right;\n",
              "    }\n",
              "</style>\n",
              "<table border=\"1\" class=\"dataframe\">\n",
              "  <thead>\n",
              "    <tr style=\"text-align: right;\">\n",
              "      <th></th>\n",
              "      <th>Actual_value</th>\n",
              "      <th>predicted_value</th>\n",
              "    </tr>\n",
              "  </thead>\n",
              "  <tbody>\n",
              "    <tr>\n",
              "      <th>0</th>\n",
              "      <td>16.9</td>\n",
              "      <td>17.159919</td>\n",
              "    </tr>\n",
              "    <tr>\n",
              "      <th>1</th>\n",
              "      <td>22.4</td>\n",
              "      <td>20.533695</td>\n",
              "    </tr>\n",
              "    <tr>\n",
              "      <th>2</th>\n",
              "      <td>21.4</td>\n",
              "      <td>23.689144</td>\n",
              "    </tr>\n",
              "    <tr>\n",
              "      <th>3</th>\n",
              "      <td>7.3</td>\n",
              "      <td>9.519146</td>\n",
              "    </tr>\n",
              "    <tr>\n",
              "      <th>4</th>\n",
              "      <td>24.7</td>\n",
              "      <td>21.607368</td>\n",
              "    </tr>\n",
              "    <tr>\n",
              "      <th>5</th>\n",
              "      <td>12.6</td>\n",
              "      <td>12.781013</td>\n",
              "    </tr>\n",
              "    <tr>\n",
              "      <th>6</th>\n",
              "      <td>22.3</td>\n",
              "      <td>21.086363</td>\n",
              "    </tr>\n",
              "    <tr>\n",
              "      <th>7</th>\n",
              "      <td>8.4</td>\n",
              "      <td>8.760542</td>\n",
              "    </tr>\n",
              "    <tr>\n",
              "      <th>8</th>\n",
              "      <td>16.5</td>\n",
              "      <td>17.115000</td>\n",
              "    </tr>\n",
              "    <tr>\n",
              "      <th>9</th>\n",
              "      <td>16.1</td>\n",
              "      <td>16.687896</td>\n",
              "    </tr>\n",
              "    <tr>\n",
              "      <th>10</th>\n",
              "      <td>11.0</td>\n",
              "      <td>8.975847</td>\n",
              "    </tr>\n",
              "    <tr>\n",
              "      <th>11</th>\n",
              "      <td>8.7</td>\n",
              "      <td>8.576450</td>\n",
              "    </tr>\n",
              "    <tr>\n",
              "      <th>12</th>\n",
              "      <td>16.9</td>\n",
              "      <td>18.332123</td>\n",
              "    </tr>\n",
              "    <tr>\n",
              "      <th>13</th>\n",
              "      <td>5.3</td>\n",
              "      <td>8.178636</td>\n",
              "    </tr>\n",
              "    <tr>\n",
              "      <th>14</th>\n",
              "      <td>10.3</td>\n",
              "      <td>12.646056</td>\n",
              "    </tr>\n",
              "    <tr>\n",
              "      <th>15</th>\n",
              "      <td>16.7</td>\n",
              "      <td>14.944869</td>\n",
              "    </tr>\n",
              "    <tr>\n",
              "      <th>16</th>\n",
              "      <td>5.5</td>\n",
              "      <td>8.349395</td>\n",
              "    </tr>\n",
              "    <tr>\n",
              "      <th>17</th>\n",
              "      <td>16.6</td>\n",
              "      <td>17.838589</td>\n",
              "    </tr>\n",
              "    <tr>\n",
              "      <th>18</th>\n",
              "      <td>11.3</td>\n",
              "      <td>11.121722</td>\n",
              "    </tr>\n",
              "    <tr>\n",
              "      <th>19</th>\n",
              "      <td>18.9</td>\n",
              "      <td>20.377406</td>\n",
              "    </tr>\n",
              "    <tr>\n",
              "      <th>20</th>\n",
              "      <td>19.7</td>\n",
              "      <td>20.948330</td>\n",
              "    </tr>\n",
              "    <tr>\n",
              "      <th>21</th>\n",
              "      <td>12.5</td>\n",
              "      <td>13.040358</td>\n",
              "    </tr>\n",
              "    <tr>\n",
              "      <th>22</th>\n",
              "      <td>10.9</td>\n",
              "      <td>11.013607</td>\n",
              "    </tr>\n",
              "    <tr>\n",
              "      <th>23</th>\n",
              "      <td>22.2</td>\n",
              "      <td>22.511426</td>\n",
              "    </tr>\n",
              "    <tr>\n",
              "      <th>24</th>\n",
              "      <td>11.3</td>\n",
              "      <td>9.403698</td>\n",
              "    </tr>\n",
              "    <tr>\n",
              "      <th>25</th>\n",
              "      <td>8.1</td>\n",
              "      <td>7.985913</td>\n",
              "    </tr>\n",
              "    <tr>\n",
              "      <th>26</th>\n",
              "      <td>21.7</td>\n",
              "      <td>20.869434</td>\n",
              "    </tr>\n",
              "    <tr>\n",
              "      <th>27</th>\n",
              "      <td>13.4</td>\n",
              "      <td>13.778823</td>\n",
              "    </tr>\n",
              "    <tr>\n",
              "      <th>28</th>\n",
              "      <td>10.6</td>\n",
              "      <td>10.834071</td>\n",
              "    </tr>\n",
              "    <tr>\n",
              "      <th>29</th>\n",
              "      <td>5.7</td>\n",
              "      <td>8.004192</td>\n",
              "    </tr>\n",
              "    <tr>\n",
              "      <th>30</th>\n",
              "      <td>15.6</td>\n",
              "      <td>15.885976</td>\n",
              "    </tr>\n",
              "    <tr>\n",
              "      <th>31</th>\n",
              "      <td>11.3</td>\n",
              "      <td>10.702742</td>\n",
              "    </tr>\n",
              "    <tr>\n",
              "      <th>32</th>\n",
              "      <td>23.7</td>\n",
              "      <td>20.952172</td>\n",
              "    </tr>\n",
              "    <tr>\n",
              "      <th>33</th>\n",
              "      <td>8.7</td>\n",
              "      <td>10.846792</td>\n",
              "    </tr>\n",
              "    <tr>\n",
              "      <th>34</th>\n",
              "      <td>16.1</td>\n",
              "      <td>21.507208</td>\n",
              "    </tr>\n",
              "    <tr>\n",
              "      <th>35</th>\n",
              "      <td>20.7</td>\n",
              "      <td>21.073473</td>\n",
              "    </tr>\n",
              "    <tr>\n",
              "      <th>36</th>\n",
              "      <td>11.6</td>\n",
              "      <td>12.226738</td>\n",
              "    </tr>\n",
              "    <tr>\n",
              "      <th>37</th>\n",
              "      <td>20.8</td>\n",
              "      <td>22.852738</td>\n",
              "    </tr>\n",
              "    <tr>\n",
              "      <th>38</th>\n",
              "      <td>11.9</td>\n",
              "      <td>12.576982</td>\n",
              "    </tr>\n",
              "    <tr>\n",
              "      <th>39</th>\n",
              "      <td>6.9</td>\n",
              "      <td>6.545972</td>\n",
              "    </tr>\n",
              "    <tr>\n",
              "      <th>40</th>\n",
              "      <td>11.0</td>\n",
              "      <td>11.934119</td>\n",
              "    </tr>\n",
              "    <tr>\n",
              "      <th>41</th>\n",
              "      <td>14.8</td>\n",
              "      <td>15.234901</td>\n",
              "    </tr>\n",
              "    <tr>\n",
              "      <th>42</th>\n",
              "      <td>10.1</td>\n",
              "      <td>10.074112</td>\n",
              "    </tr>\n",
              "    <tr>\n",
              "      <th>43</th>\n",
              "      <td>9.7</td>\n",
              "      <td>9.521597</td>\n",
              "    </tr>\n",
              "    <tr>\n",
              "      <th>44</th>\n",
              "      <td>16.6</td>\n",
              "      <td>17.117864</td>\n",
              "    </tr>\n",
              "    <tr>\n",
              "      <th>45</th>\n",
              "      <td>7.6</td>\n",
              "      <td>7.280327</td>\n",
              "    </tr>\n",
              "    <tr>\n",
              "      <th>46</th>\n",
              "      <td>10.5</td>\n",
              "      <td>10.494049</td>\n",
              "    </tr>\n",
              "    <tr>\n",
              "      <th>47</th>\n",
              "      <td>14.6</td>\n",
              "      <td>15.243568</td>\n",
              "    </tr>\n",
              "    <tr>\n",
              "      <th>48</th>\n",
              "      <td>10.4</td>\n",
              "      <td>11.207422</td>\n",
              "    </tr>\n",
              "    <tr>\n",
              "      <th>49</th>\n",
              "      <td>12.0</td>\n",
              "      <td>11.783927</td>\n",
              "    </tr>\n",
              "    <tr>\n",
              "      <th>50</th>\n",
              "      <td>14.6</td>\n",
              "      <td>14.014722</td>\n",
              "    </tr>\n",
              "    <tr>\n",
              "      <th>51</th>\n",
              "      <td>16.7</td>\n",
              "      <td>14.598846</td>\n",
              "    </tr>\n",
              "    <tr>\n",
              "      <th>52</th>\n",
              "      <td>7.2</td>\n",
              "      <td>10.827224</td>\n",
              "    </tr>\n",
              "    <tr>\n",
              "      <th>53</th>\n",
              "      <td>6.6</td>\n",
              "      <td>9.558394</td>\n",
              "    </tr>\n",
              "    <tr>\n",
              "      <th>54</th>\n",
              "      <td>9.4</td>\n",
              "      <td>9.037497</td>\n",
              "    </tr>\n",
              "    <tr>\n",
              "      <th>55</th>\n",
              "      <td>11.0</td>\n",
              "      <td>12.511833</td>\n",
              "    </tr>\n",
              "    <tr>\n",
              "      <th>56</th>\n",
              "      <td>10.9</td>\n",
              "      <td>10.525510</td>\n",
              "    </tr>\n",
              "    <tr>\n",
              "      <th>57</th>\n",
              "      <td>25.4</td>\n",
              "      <td>25.019008</td>\n",
              "    </tr>\n",
              "    <tr>\n",
              "      <th>58</th>\n",
              "      <td>7.6</td>\n",
              "      <td>7.993349</td>\n",
              "    </tr>\n",
              "    <tr>\n",
              "      <th>59</th>\n",
              "      <td>16.7</td>\n",
              "      <td>15.739163</td>\n",
              "    </tr>\n",
              "  </tbody>\n",
              "</table>\n",
              "</div>\n",
              "      <button class=\"colab-df-convert\" onclick=\"convertToInteractive('df-3a38ecb6-547b-403b-ba3b-e9de89e81e5e')\"\n",
              "              title=\"Convert this dataframe to an interactive table.\"\n",
              "              style=\"display:none;\">\n",
              "        \n",
              "  <svg xmlns=\"http://www.w3.org/2000/svg\" height=\"24px\"viewBox=\"0 0 24 24\"\n",
              "       width=\"24px\">\n",
              "    <path d=\"M0 0h24v24H0V0z\" fill=\"none\"/>\n",
              "    <path d=\"M18.56 5.44l.94 2.06.94-2.06 2.06-.94-2.06-.94-.94-2.06-.94 2.06-2.06.94zm-11 1L8.5 8.5l.94-2.06 2.06-.94-2.06-.94L8.5 2.5l-.94 2.06-2.06.94zm10 10l.94 2.06.94-2.06 2.06-.94-2.06-.94-.94-2.06-.94 2.06-2.06.94z\"/><path d=\"M17.41 7.96l-1.37-1.37c-.4-.4-.92-.59-1.43-.59-.52 0-1.04.2-1.43.59L10.3 9.45l-7.72 7.72c-.78.78-.78 2.05 0 2.83L4 21.41c.39.39.9.59 1.41.59.51 0 1.02-.2 1.41-.59l7.78-7.78 2.81-2.81c.8-.78.8-2.07 0-2.86zM5.41 20L4 18.59l7.72-7.72 1.47 1.35L5.41 20z\"/>\n",
              "  </svg>\n",
              "      </button>\n",
              "      \n",
              "  <style>\n",
              "    .colab-df-container {\n",
              "      display:flex;\n",
              "      flex-wrap:wrap;\n",
              "      gap: 12px;\n",
              "    }\n",
              "\n",
              "    .colab-df-convert {\n",
              "      background-color: #E8F0FE;\n",
              "      border: none;\n",
              "      border-radius: 50%;\n",
              "      cursor: pointer;\n",
              "      display: none;\n",
              "      fill: #1967D2;\n",
              "      height: 32px;\n",
              "      padding: 0 0 0 0;\n",
              "      width: 32px;\n",
              "    }\n",
              "\n",
              "    .colab-df-convert:hover {\n",
              "      background-color: #E2EBFA;\n",
              "      box-shadow: 0px 1px 2px rgba(60, 64, 67, 0.3), 0px 1px 3px 1px rgba(60, 64, 67, 0.15);\n",
              "      fill: #174EA6;\n",
              "    }\n",
              "\n",
              "    [theme=dark] .colab-df-convert {\n",
              "      background-color: #3B4455;\n",
              "      fill: #D2E3FC;\n",
              "    }\n",
              "\n",
              "    [theme=dark] .colab-df-convert:hover {\n",
              "      background-color: #434B5C;\n",
              "      box-shadow: 0px 1px 3px 1px rgba(0, 0, 0, 0.15);\n",
              "      filter: drop-shadow(0px 1px 2px rgba(0, 0, 0, 0.3));\n",
              "      fill: #FFFFFF;\n",
              "    }\n",
              "  </style>\n",
              "\n",
              "      <script>\n",
              "        const buttonEl =\n",
              "          document.querySelector('#df-3a38ecb6-547b-403b-ba3b-e9de89e81e5e button.colab-df-convert');\n",
              "        buttonEl.style.display =\n",
              "          google.colab.kernel.accessAllowed ? 'block' : 'none';\n",
              "\n",
              "        async function convertToInteractive(key) {\n",
              "          const element = document.querySelector('#df-3a38ecb6-547b-403b-ba3b-e9de89e81e5e');\n",
              "          const dataTable =\n",
              "            await google.colab.kernel.invokeFunction('convertToInteractive',\n",
              "                                                     [key], {});\n",
              "          if (!dataTable) return;\n",
              "\n",
              "          const docLinkHtml = 'Like what you see? Visit the ' +\n",
              "            '<a target=\"_blank\" href=https://colab.research.google.com/notebooks/data_table.ipynb>data table notebook</a>'\n",
              "            + ' to learn more about interactive tables.';\n",
              "          element.innerHTML = '';\n",
              "          dataTable['output_type'] = 'display_data';\n",
              "          await google.colab.output.renderOutput(dataTable, element);\n",
              "          const docLink = document.createElement('div');\n",
              "          docLink.innerHTML = docLinkHtml;\n",
              "          element.appendChild(docLink);\n",
              "        }\n",
              "      </script>\n",
              "    </div>\n",
              "  </div>\n",
              "  "
            ]
          },
          "metadata": {},
          "execution_count": 25
        }
      ]
    },
    {
      "cell_type": "code",
      "source": [
        "from sklearn.metrics import mean_absolute_error\n",
        "print('MAE',mean_absolute_error(y_test,y_pred))"
      ],
      "metadata": {
        "colab": {
          "base_uri": "https://localhost:8080/"
        },
        "id": "vG7KpJDo74yL",
        "outputId": "f123ed04-f774-4632-ddeb-064526a4b3db"
      },
      "execution_count": null,
      "outputs": [
        {
          "output_type": "stream",
          "name": "stdout",
          "text": [
            "MAE 1.159487506109059\n"
          ]
        }
      ]
    },
    {
      "cell_type": "code",
      "source": [
        "from sklearn.metrics import mean_absolute_percentage_error\n",
        "print('percentage error',mean_absolute_percentage_error(y_test,y_pred))"
      ],
      "metadata": {
        "colab": {
          "base_uri": "https://localhost:8080/"
        },
        "id": "ve_-Z42i8ohm",
        "outputId": "22ab7490-4e59-4b68-d4c0-961db45388d6"
      },
      "execution_count": null,
      "outputs": [
        {
          "output_type": "stream",
          "name": "stdout",
          "text": [
            "percentage error 0.10536440823029317\n"
          ]
        }
      ]
    },
    {
      "cell_type": "code",
      "source": [
        "from sklearn.metrics import mean_squared_error\n",
        "print('MSE',mean_squared_error(y_test,y_pred))"
      ],
      "metadata": {
        "colab": {
          "base_uri": "https://localhost:8080/"
        },
        "id": "0o7hYuFL9MoJ",
        "outputId": "2d401234-4cec-4d24-b455-445f9aac1953"
      },
      "execution_count": null,
      "outputs": [
        {
          "output_type": "stream",
          "name": "stdout",
          "text": [
            "MSE 2.5416240362291505\n"
          ]
        }
      ]
    },
    {
      "cell_type": "code",
      "source": [
        "from scipy.sparse.linalg.isolve.minres import sqrt\n",
        "mse=2.5416240362291505\n",
        "rmse=sqrt(mse)\n",
        "rmse"
      ],
      "metadata": {
        "colab": {
          "base_uri": "https://localhost:8080/"
        },
        "id": "jG1xYnn-9zBe",
        "outputId": "a0d6a2a8-d519-4455-c773-98084433a1c4"
      },
      "execution_count": null,
      "outputs": [
        {
          "output_type": "execute_result",
          "data": {
            "text/plain": [
              "1.5942471691143598"
            ]
          },
          "metadata": {},
          "execution_count": 29
        }
      ]
    }
  ]
}